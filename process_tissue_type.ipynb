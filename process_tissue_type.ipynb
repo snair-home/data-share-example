{
 "cells": [
  {
   "attachments": {},
   "cell_type": "markdown",
   "metadata": {},
   "source": [
    "### Download the data file\n",
    "Data files can be downloaded using content URL"
   ]
  },
  {
   "cell_type": "code",
   "execution_count": 8,
   "metadata": {},
   "outputs": [
    {
     "name": "stdout",
     "output_type": "stream",
     "text": [
      "Success\n"
     ]
    }
   ],
   "source": [
    "import requests\n",
    "\n",
    "# get csv  from github repo \n",
    "url = \"https://raw.githubusercontent.com/snair-home/data-share-example/main/tissue_type_code_mapping.csv\"\n",
    "r = requests.get(url)\n",
    "if r.status_code == 200:\n",
    "    print(\"Success\")\n",
    "    file_name = url.split(\"/\")[-1]\n",
    "    with open(f\"~/Downloads/{file_name}\", \"wb\") as f: \n",
    "        f.write(r.content)\n",
    "else:\n",
    "    print(f\"Error {r.status_code}\")\n"
   ]
  }
 ],
 "metadata": {
  "kernelspec": {
   "display_name": "base",
   "language": "python",
   "name": "python3"
  },
  "language_info": {
   "codemirror_mode": {
    "name": "ipython",
    "version": 3
   },
   "file_extension": ".py",
   "mimetype": "text/x-python",
   "name": "python",
   "nbconvert_exporter": "python",
   "pygments_lexer": "ipython3",
   "version": "3.9.7"
  },
  "orig_nbformat": 4
 },
 "nbformat": 4,
 "nbformat_minor": 2
}
